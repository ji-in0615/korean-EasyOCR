{
 "cells": [
  {
   "cell_type": "code",
   "execution_count": 2,
   "id": "8083da92",
   "metadata": {
    "ExecuteTime": {
     "end_time": "2022-08-09T11:44:32.340662Z",
     "start_time": "2022-08-09T11:44:31.757862Z"
    }
   },
   "outputs": [
    {
     "name": "stderr",
     "output_type": "stream",
     "text": [
      "/data/anaconda3/envs/easyocrf/lib/python3.7/site-packages/tqdm/auto.py:22: TqdmWarning: IProgress not found. Please update jupyter and ipywidgets. See https://ipywidgets.readthedocs.io/en/stable/user_install.html\n",
      "  from .autonotebook import tqdm as notebook_tqdm\n"
     ]
    }
   ],
   "source": [
    "import os\n",
    "from unit_test import UnitTest"
   ]
  },
  {
   "cell_type": "markdown",
   "id": "1f664ba2",
   "metadata": {},
   "source": [
    "### Set up paths "
   ]
  },
  {
   "cell_type": "code",
   "execution_count": 7,
   "id": "ed49737e",
   "metadata": {
    "ExecuteTime": {
     "end_time": "2022-08-09T11:44:33.073519Z",
     "start_time": "2022-08-09T11:44:33.071997Z"
    }
   },
   "outputs": [],
   "source": [
    "easyocr_module = \"../easyocr\"\n",
    "verbose = 2\n",
    "test_data = \"./data/EasyOcrUnitTestPackage.pickle\"\n",
    "image_data_dir = \"/data/IMT/ocr_ko/sample_images\""
   ]
  },
  {
   "cell_type": "markdown",
   "id": "99863c23",
   "metadata": {},
   "source": [
    "### Initialize UnitTest"
   ]
  },
  {
   "cell_type": "code",
   "execution_count": 8,
   "id": "487955be",
   "metadata": {
    "ExecuteTime": {
     "end_time": "2022-08-09T11:44:38.768726Z",
     "start_time": "2022-08-09T11:44:34.017508Z"
    },
    "scrolled": true
   },
   "outputs": [
    {
     "name": "stdout",
     "output_type": "stream",
     "text": [
      "Unit test is set for EasyOCR at /home/ubuntu/workspace/230213_easyocrf_jiin/EasyOCR/easyocr\n"
     ]
    },
    {
     "ename": "AttributeError",
     "evalue": "'FileNotFoundError' object has no attribute 'format'",
     "output_type": "error",
     "traceback": [
      "\u001b[0;31m---------------------------------------------------------------------------\u001b[0m",
      "\u001b[0;31mAttributeError\u001b[0m                            Traceback (most recent call last)",
      "\u001b[0;32m/tmp/ipykernel_28999/474799601.py\u001b[0m in \u001b[0;36m<module>\u001b[0;34m\u001b[0m\n\u001b[1;32m      1\u001b[0m unit_test = UnitTest(easyocr_module, \n\u001b[1;32m      2\u001b[0m                      \u001b[0mtest_data\u001b[0m\u001b[0;34m,\u001b[0m\u001b[0;34m\u001b[0m\u001b[0;34m\u001b[0m\u001b[0m\n\u001b[0;32m----> 3\u001b[0;31m                      \u001b[0mimage_data_dir\u001b[0m\u001b[0;34m\u001b[0m\u001b[0;34m\u001b[0m\u001b[0m\n\u001b[0m\u001b[1;32m      4\u001b[0m                      )\n",
      "\u001b[0;32m~/workspace/230213_easyocrf_jiin/EasyOCR/unit_test/unit_test.py\u001b[0m in \u001b[0;36m__init__\u001b[0;34m(self, easyocr_module, test_data, image_data_dir, verbose, numeric_acceptance_error)\u001b[0m\n\u001b[1;32m     46\u001b[0m         \u001b[0mself\u001b[0m\u001b[0;34m.\u001b[0m\u001b[0mimage_data_dir\u001b[0m \u001b[0;34m=\u001b[0m \u001b[0mimage_data_dir\u001b[0m\u001b[0;34m\u001b[0m\u001b[0;34m\u001b[0m\u001b[0m\n\u001b[1;32m     47\u001b[0m \u001b[0;34m\u001b[0m\u001b[0m\n\u001b[0;32m---> 48\u001b[0;31m         \u001b[0mself\u001b[0m\u001b[0;34m.\u001b[0m\u001b[0mset_data\u001b[0m\u001b[0;34m(\u001b[0m\u001b[0mtest_data\u001b[0m\u001b[0;34m)\u001b[0m\u001b[0;34m\u001b[0m\u001b[0;34m\u001b[0m\u001b[0m\n\u001b[0m\u001b[1;32m     49\u001b[0m         \u001b[0mself\u001b[0m\u001b[0;34m.\u001b[0m\u001b[0mset_easyocr\u001b[0m\u001b[0;34m(\u001b[0m\u001b[0;34m)\u001b[0m\u001b[0;34m\u001b[0m\u001b[0;34m\u001b[0m\u001b[0m\n\u001b[1;32m     50\u001b[0m         \u001b[0mself\u001b[0m\u001b[0;34m.\u001b[0m\u001b[0mnumeric_acceptance_error\u001b[0m \u001b[0;34m=\u001b[0m \u001b[0mnumeric_acceptance_error\u001b[0m\u001b[0;34m\u001b[0m\u001b[0;34m\u001b[0m\u001b[0m\n",
      "\u001b[0;32m~/workspace/230213_easyocrf_jiin/EasyOCR/unit_test/unit_test.py\u001b[0m in \u001b[0;36mset_data\u001b[0;34m(self, test_data)\u001b[0m\n\u001b[1;32m     59\u001b[0m \u001b[0;34m\u001b[0m\u001b[0m\n\u001b[1;32m     60\u001b[0m         \u001b[0;32mif\u001b[0m \u001b[0many\u001b[0m\u001b[0;34m(\u001b[0m\u001b[0;34m[\u001b[0m\u001b[0mfile\u001b[0m \u001b[0;32mnot\u001b[0m \u001b[0;32min\u001b[0m \u001b[0mos\u001b[0m\u001b[0;34m.\u001b[0m\u001b[0mlistdir\u001b[0m\u001b[0;34m(\u001b[0m\u001b[0mself\u001b[0m\u001b[0;34m.\u001b[0m\u001b[0mimage_data_dir\u001b[0m\u001b[0;34m)\u001b[0m \u001b[0;32mfor\u001b[0m \u001b[0mfile\u001b[0m \u001b[0;32min\u001b[0m \u001b[0msolution_book\u001b[0m\u001b[0;34m[\u001b[0m\u001b[0;34m'inputs'\u001b[0m\u001b[0;34m]\u001b[0m\u001b[0;34m[\u001b[0m\u001b[0;34m'images'\u001b[0m\u001b[0;34m]\u001b[0m\u001b[0;34m.\u001b[0m\u001b[0mkeys\u001b[0m\u001b[0;34m(\u001b[0m\u001b[0;34m)\u001b[0m\u001b[0;34m]\u001b[0m\u001b[0;34m)\u001b[0m\u001b[0;34m:\u001b[0m\u001b[0;34m\u001b[0m\u001b[0;34m\u001b[0m\u001b[0m\n\u001b[0;32m---> 61\u001b[0;31m             raise FileNotFoundError(\"Cannot find {} in {}.\").format(', '.join([file for file in solution_book['inputs']['images'].keys() \n\u001b[0m\u001b[1;32m     62\u001b[0m                                                                                if file not in os.listdir(self.image_data_dir)], self.image_data_dir))\n\u001b[1;32m     63\u001b[0m         images = {os.path.splitext(file)[0]: {\n",
      "\u001b[0;31mAttributeError\u001b[0m: 'FileNotFoundError' object has no attribute 'format'"
     ]
    }
   ],
   "source": [
    "unit_test = UnitTest(easyocr_module, \n",
    "                     test_data,\n",
    "                     image_data_dir\n",
    "                     )"
   ]
  },
  {
   "cell_type": "markdown",
   "id": "8a1da79b",
   "metadata": {},
   "source": [
    "### Run the test with verbosity level 2"
   ]
  },
  {
   "cell_type": "code",
   "execution_count": 4,
   "id": "37da586b",
   "metadata": {
    "ExecuteTime": {
     "end_time": "2022-08-09T11:44:47.011434Z",
     "start_time": "2022-08-09T11:44:40.669523Z"
    }
   },
   "outputs": [
    {
     "name": "stdout",
     "output_type": "stream",
     "text": [
      "Testing EasyOCR: 9 modules will be tested.\n",
      "\n",
      "##Testing module model initialization: 4 tests will be performed.\n",
      "#### test01: Counting parameters of detector module.\n",
      "#### Passed. [1/4]\n",
      "#### test02: Calculating total norm of parameters in detector module.\n",
      "#### Passed. [2/4]\n",
      "#### test03: Counting parameters of recognition module.\n",
      "#### Passed. [3/4]\n",
      "#### test04: Calculating total norm of parameters in recognition module.\n",
      "#### Passed. [4/4]\n",
      "##Module model initialization: Passed.\n",
      "\n",
      "##Testing module get_textbox function: 3 tests will be performed.\n",
      "#### test01: Testing with default input.\n",
      "#### Passed. [1/3]\n",
      "#### test02: Testing with custom input.\n",
      "#### Passed. [2/3]\n",
      "#### test03: Testing with custom input.\n",
      "#### Passed. [3/3]\n",
      "##Module get_textbox function: Passed.\n",
      "\n",
      "##Testing module group_text_box function: 3 tests will be performed.\n",
      "#### test01: Testing with default input.\n",
      "#### Passed. [1/3]\n",
      "#### test02: Testing with custom input.\n",
      "#### Passed. [2/3]\n",
      "#### test03: Testing with custom input.\n",
      "#### Passed. [3/3]\n",
      "##Module group_text_box function: Passed.\n",
      "\n",
      "##Testing module detect method: 3 tests will be performed.\n",
      "#### test01: Testing with default input.\n",
      "#### Passed. [1/3]\n",
      "#### test02: Testing with custom input.\n",
      "#### Passed. [2/3]\n",
      "#### test03: Testing with custom input.\n",
      "#### Passed. [3/3]\n",
      "##Module detect method: Passed.\n",
      "\n",
      "##Testing module get_image_list function: 2 tests will be performed.\n",
      "#### test01: Testing with default input.\n",
      "#### Passed. [1/2]\n",
      "#### test02: Testing with custom input.\n",
      "#### Passed. [2/2]\n",
      "##Module get_image_list function: Passed.\n",
      "\n",
      "##Testing module get_text_test function: 3 tests will be performed.\n",
      "#### test01: Testing with default input.\n",
      "#### Passed. [1/3]\n",
      "#### test02: Testing with custom input.\n",
      "#### Passed. [2/3]\n",
      "#### test03: Testing with custom input.\n",
      "#### Passed. [3/3]\n",
      "##Module get_text_test function: Passed.\n",
      "\n",
      "##Testing module get_paragraph_test function: 3 tests will be performed.\n",
      "#### test01: Testing with default input.\n",
      "#### Passed. [1/3]\n",
      "#### test02: Testing with custom input.\n",
      "#### Passed. [2/3]\n",
      "#### test03: Testing with custom input.\n",
      "#### Passed. [3/3]\n",
      "##Module get_paragraph_test function: Passed.\n",
      "\n",
      "##Testing module recognize method: 2 tests will be performed.\n",
      "#### test01: Testing with default input.\n",
      "#### Passed. [1/2]\n",
      "#### test02: Testing with custom input.\n",
      "#### Passed. [2/2]\n",
      "##Module recognize method: Passed.\n",
      "\n",
      "##Testing module readtext method: 4 tests will be performed.\n",
      "#### test01: Reading English text.\n",
      "#### Passed. [1/4]\n",
      "#### test02: Reading French text.\n",
      "#### Passed. [2/4]\n",
      "#### test03: Reading Chinese (simplified) text.\n",
      "#### Passed. [3/4]\n",
      "#### test04: Reading Korean text.\n",
      "#### Passed. [4/4]\n",
      "##Module readtext method: Passed.\n",
      "\n",
      "##################################################\n",
      "Testing completed:\n",
      " Final result: Passed.\n"
     ]
    }
   ],
   "source": [
    "unit_test.do_test(verbose = 2)"
   ]
  },
  {
   "cell_type": "code",
   "execution_count": null,
   "id": "b62ccbd9",
   "metadata": {},
   "outputs": [],
   "source": []
  }
 ],
 "metadata": {
  "kernelspec": {
   "display_name": "easyocrf",
   "language": "python",
   "name": "python3"
  },
  "language_info": {
   "codemirror_mode": {
    "name": "ipython",
    "version": 3
   },
   "file_extension": ".py",
   "mimetype": "text/x-python",
   "name": "python",
   "nbconvert_exporter": "python",
   "pygments_lexer": "ipython3",
   "version": "3.7.16"
  },
  "vscode": {
   "interpreter": {
    "hash": "2c499dcf3b9b60e76a77a9d846540c8c4669bdda2949dd7c87e1dce585ba43ef"
   }
  }
 },
 "nbformat": 4,
 "nbformat_minor": 5
}
